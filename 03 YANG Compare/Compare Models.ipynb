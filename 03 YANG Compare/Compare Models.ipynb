{
 "cells": [
  {
   "cell_type": "markdown",
   "metadata": {},
   "source": [
    "### Import python libraries to compare the modules:"
   ]
  },
  {
   "cell_type": "code",
   "execution_count": 138,
   "metadata": {},
   "outputs": [],
   "source": [
    "import ncclient\n",
    "from ncclient import manager\n",
    "import xmltodict\n",
    "import xml.dom.minidom\n",
    "import pandas as pd \n",
    "import wget\n",
    "import os\n",
    "import difflib"
   ]
  },
  {
   "cell_type": "code",
   "execution_count": 139,
   "metadata": {},
   "outputs": [],
   "source": [
    "m = manager.connect(\n",
    "   host=\"10.95.86.212\",\n",
    "   port=\"830\",\n",
    "   username=\"tid\",\n",
    "   password=\"c22/pass\",\n",
    "   hostkey_verify=False)"
   ]
  },
  {
   "cell_type": "code",
   "execution_count": 141,
   "metadata": {},
   "outputs": [
    {
     "name": "stdout",
     "output_type": "stream",
     "text": [
      "ERROR:yang_cisco/openconfig-rib-bgp@2016-04-11&deviations=cisco-xr-openconfig-rib-bgp-deviations.yang\n",
      "ERROR:yang_cisco/openconfig-network-instance@2017-01-13&deviations=cisco-xr-openconfig-network-instance-deviations.yang\n",
      "ERROR:yang_cisco/openconfig-platform@2018-06-29&deviations=cisco-xr-openconfig-platform-deviations.yang\n",
      "ERROR:yang_cisco/openconfig-if-ethernet@2016-05-26&deviations=cisco-xr-openconfig-if-ethernet-deviations.yang\n",
      "ERROR:yang_cisco/openconfig-platform-port@2018-01-20&deviations=cisco-xr-openconfig-platform-port-deviations.yang\n",
      "ERROR:yang_cisco/openconfig-platform-transceiver@2018-11-25&deviations=cisco-xr-openconfig-platform-transceiver-deviations.yang\n",
      "ERROR:yang_cisco/openconfig-telemetry@2016-02-04&deviations=cisco-xr-openconfig-telemetry-deviations.yang\n",
      "ERROR:yang_cisco/openconfig-platform-psu@2018-01-16&deviations=cisco-xr-openconfig-platform-psu-deviations.yang\n",
      "ERROR:yang_cisco/openconfig-rsvp-sr-ext@2017-03-06&deviations=cisco-xr-openconfig-rsvp-sr-ext-deviations.yang\n",
      "ERROR:yang_cisco/openconfig-if-ip-ext@2018-11-21&deviations=cisco-xr-openconfig-if-ip-ext-deviations.yang\n",
      "ERROR:yang_cisco/openconfig-vlan@2016-05-26&deviations=cisco-xr-openconfig-vlan-deviations.yang\n",
      "ERROR:yang_cisco/openconfig-system@2018-07-17&deviations=cisco-xr-openconfig-system-deviations.yang\n",
      "ERROR:yang_cisco/openconfig-transport-line-common@2018-07-17&deviations=cisco-xr-openconfig-transport-line-common-deviations.yang\n",
      "ERROR:yang_cisco/openconfig-bgp-policy@2017-07-30&deviations=cisco-xr-openconfig-bgp-policy-deviations.yang\n",
      "ERROR:yang_cisco/openconfig-lldp@2016-05-16&deviations=cisco-xr-openconfig-lldp-deviations.yang\n",
      "ERROR:yang_cisco/openconfig-acl@2017-05-26&deviations=cisco-xr-openconfig-acl-deviations.yang\n",
      "ERROR:yang_cisco/openconfig-lacp@2017-05-05&deviations=cisco-xr-openconfig-lacp-deviations.yang\n",
      "ERROR:yang_cisco/openconfig-interfaces@2016-05-26&deviations=cisco-xr-openconfig-interfaces-deviations.yang\n",
      "ERROR:yang_cisco/openconfig-platform-cpu@2018-01-30&deviations=cisco-xr-openconfig-platform-cpu-deviations.yang\n",
      "ERROR:yang_cisco/openconfig-if-ip@2019-01-08&deviations=cisco-xr-openconfig-if-ip-deviations.yang\n"
     ]
    }
   ],
   "source": [
    "for capability in m.server_capabilities:\n",
    "        if \"urn:ietf:params\" in capability:\n",
    "            #print capability\n",
    "            pass\n",
    "        else: \n",
    "            ns=capability.split(\"module=\")[1].split(\"&revision=\")[0]\n",
    "            rev=capability.split(\"revision=\")[1]\n",
    "            filename=\"yang_cisco/\"+ns+'@'+rev+\".yang\"\n",
    "            if \"openconfig\" in capability:\n",
    "                try:\n",
    "                    schemay=m.get_schema(ns,rev)\n",
    "                    schema_reply=xml.dom.minidom.parseString(schemay.xml)\n",
    "                    file_out=schema_reply.getElementsByTagName(\"data\")[0].childNodes[0].toxml()\n",
    "                    file_out=file_out.replace(\"&quot;\",'\"')\n",
    "                    with open(filename, 'w') as f:\n",
    "                        #print \"saving...\"+ filename\n",
    "                        f.write(file_out)\n",
    "                except:\n",
    "                    print \"ERROR:\"+filename"
   ]
  },
  {
   "cell_type": "markdown",
   "metadata": {},
   "source": [
    "### Download the requiered files"
   ]
  },
  {
   "cell_type": "code",
   "execution_count": 83,
   "metadata": {},
   "outputs": [],
   "source": [
    "def download_files(file_name, out):\n",
    "    models = pd.read_excel(io=file_name, sheet_name=\"compare\")\n",
    "    for index, row in models.iterrows():\n",
    "        moudule_name=row[\"SpecName\"].split(\"@\")[0]\n",
    "        version=row[\"SpecName\"].split(\"@\")[1]\n",
    "        out_file=out+moudule_name+'@'+version+\".yang\"\n",
    "        url=\"https://www.yangcatalog.org/yang-search/module_details.php?module=\"+moudule_name+\"@\"+version\n",
    "        r=requests.get(url)\n",
    "        text = r.text\n",
    "        plaintext = text.decode('utf8')\n",
    "        links = re.findall(\"href=[\\\"\\'](.*?)[\\\"\\']\", plaintext)\n",
    "        links = list(dict.fromkeys(links))\n",
    "        for link in links:\n",
    "            if moudule_name+\".yang\" in link:\n",
    "                url2=link\n",
    "                r=requests.get(url2)\n",
    "                try:\n",
    "                    with open(out_file, 'w') as f:\n",
    "                        print \"saving...\"+ out_file\n",
    "                        f.write(r.text)\n",
    "                except:\n",
    "                    print \"ERROR...\"+ out_file\n",
    "                    pass"
   ]
  },
  {
   "cell_type": "code",
   "execution_count": 117,
   "metadata": {},
   "outputs": [
    {
     "name": "stdout",
     "output_type": "stream",
     "text": [
      "saving...yang_catalog/openconfig-bgp-types@2018-11-21.yang\n",
      "saving...yang_catalog/openconfig-if-aggregate@2019-04-16.yang\n",
      "saving...yang_catalog/openconfig-if-ethernet@2019-04-16.yang\n",
      "ERROR...yang_catalog/openconfig-if-ethernet@2019-04-16.yang\n",
      "saving...yang_catalog/openconfig-if-types@2018-11-21.yang\n",
      "saving...yang_catalog/openconfig-inet-types@2019-04-25.yang\n",
      "saving...yang_catalog/openconfig-interfaces@2019-11-19.yang\n",
      "saving...yang_catalog/openconfig-lacp@2018-11-21.yang\n",
      "saving...yang_catalog/openconfig-lldp@2018-11-21.yang\n",
      "saving...yang_catalog/openconfig-lldp-types@2018-11-21.yang\n",
      "saving...yang_catalog/openconfig-network-instance@2019-11-28.yang\n",
      "saving...yang_catalog/openconfig-network-instance-l3@2018-11-21.yang\n",
      "saving...yang_catalog/openconfig-network-instance-types@2018-11-21.yang\n",
      "saving...yang_catalog/openconfig-packet-match@2018-11-21.yang\n",
      "saving...yang_catalog/openconfig-platform@2019-04-16.yang\n",
      "saving...yang_catalog/openconfig-platform-cpu@2018-11-21.yang\n",
      "saving...yang_catalog/openconfig-platform-ext@2018-11-21.yang\n",
      "saving...yang_catalog/openconfig-platform-fan@2018-11-21.yang\n",
      "saving...yang_catalog/openconfig-platform-linecard@2018-11-21.yang\n",
      "saving...yang_catalog/openconfig-platform-port@2018-11-21.yang\n",
      "saving...yang_catalog/openconfig-platform-psu@2018-11-21.yang\n",
      "saving...yang_catalog/openconfig-platform-types@2019-06-03.yang\n",
      "saving...yang_catalog/openconfig-policy-types@2018-11-21.yang\n",
      "saving...yang_catalog/openconfig-rib-bgp@2019-10-15.yang\n",
      "saving...yang_catalog/openconfig-routing-policy@2018-11-21.yang\n",
      "saving...yang_catalog/openconfig-types@2019-04-16.yang\n",
      "saving...yang_catalog/openconfig-vlan@2019-04-16.yang\n",
      "saving...yang_catalog/openconfig-vlan-types@2019-01-31.yang\n",
      "saving...yang_catalog/openconfig-yang-types@2018-11-21.yang\n"
     ]
    }
   ],
   "source": [
    "file_name = \"output.xlsx\"\n",
    "download_files(file_name,\"yang_catalog/\")"
   ]
  },
  {
   "cell_type": "code",
   "execution_count": 134,
   "metadata": {},
   "outputs": [
    {
     "ename": "IOError",
     "evalue": "[Errno 2] No such file or directory: u'yang_cisco/cisco-xr-openconfig-if-ethernet-deviations@2016-05-26.yang'",
     "output_type": "error",
     "traceback": [
      "\u001b[0;31m---------------------------------------------------------------------------\u001b[0m",
      "\u001b[0;31mIOError\u001b[0m                                   Traceback (most recent call last)",
      "\u001b[0;32m<ipython-input-134-4412c655844a>\u001b[0m in \u001b[0;36m<module>\u001b[0;34m()\u001b[0m\n\u001b[1;32m      5\u001b[0m     \u001b[0mdir1\u001b[0m\u001b[0;34m=\u001b[0m\u001b[0mrow\u001b[0m\u001b[0;34m[\u001b[0m\u001b[0;34m\"SpecName\"\u001b[0m\u001b[0;34m]\u001b[0m\u001b[0;34m\u001b[0m\u001b[0m\n\u001b[1;32m      6\u001b[0m     \u001b[0mdir2\u001b[0m\u001b[0;34m=\u001b[0m\u001b[0mrow\u001b[0m\u001b[0;34m[\u001b[0m\u001b[0;34m\"CiscoImpl\"\u001b[0m\u001b[0;34m]\u001b[0m\u001b[0;34m\u001b[0m\u001b[0m\n\u001b[0;32m----> 7\u001b[0;31m     \u001b[0;32mwith\u001b[0m \u001b[0mopen\u001b[0m\u001b[0;34m(\u001b[0m\u001b[0;34m'yang_catalog/'\u001b[0m\u001b[0;34m+\u001b[0m\u001b[0mdir1\u001b[0m\u001b[0;34m+\u001b[0m\u001b[0;34m'.yang'\u001b[0m\u001b[0;34m)\u001b[0m \u001b[0;32mas\u001b[0m \u001b[0mf\u001b[0m\u001b[0;34m,\u001b[0m \u001b[0mopen\u001b[0m\u001b[0;34m(\u001b[0m\u001b[0;34m'yang_cisco/'\u001b[0m\u001b[0;34m+\u001b[0m\u001b[0mdir2\u001b[0m\u001b[0;34m+\u001b[0m\u001b[0;34m'.yang'\u001b[0m\u001b[0;34m)\u001b[0m \u001b[0;32mas\u001b[0m \u001b[0mg\u001b[0m\u001b[0;34m:\u001b[0m\u001b[0;34m\u001b[0m\u001b[0m\n\u001b[0m\u001b[1;32m      8\u001b[0m         \u001b[0mflines\u001b[0m \u001b[0;34m=\u001b[0m \u001b[0mf\u001b[0m\u001b[0;34m.\u001b[0m\u001b[0mreadlines\u001b[0m\u001b[0;34m(\u001b[0m\u001b[0;34m)\u001b[0m\u001b[0;34m\u001b[0m\u001b[0m\n\u001b[1;32m      9\u001b[0m         \u001b[0mglines\u001b[0m \u001b[0;34m=\u001b[0m \u001b[0mg\u001b[0m\u001b[0;34m.\u001b[0m\u001b[0mreadlines\u001b[0m\u001b[0;34m(\u001b[0m\u001b[0;34m)\u001b[0m\u001b[0;34m\u001b[0m\u001b[0m\n",
      "\u001b[0;31mIOError\u001b[0m: [Errno 2] No such file or directory: u'yang_cisco/cisco-xr-openconfig-if-ethernet-deviations@2016-05-26.yang'"
     ]
    }
   ],
   "source": [
    "import filecmp\n",
    "\n",
    "models = pd.read_excel(io=file_name, sheet_name=\"compare\")        \n",
    "for index, row in models.iterrows():\n",
    "    dir1=row[\"SpecName\"]\n",
    "    dir2=row[\"CiscoImpl\"]\n",
    "    with open('yang_catalog/'+dir1+'.yang') as f, open('yang_cisco/'+dir2+'.yang') as g:\n",
    "        flines = f.readlines()\n",
    "        glines = g.readlines()\n",
    "\n",
    "    d = difflib.HtmlDiff()\n",
    "    a = d.make_table(flines, glines)\n",
    "    with open ('diff/'+dir1+'.html','w') as h:\n",
    "        h.write(a)"
   ]
  },
  {
   "cell_type": "code",
   "execution_count": 137,
   "metadata": {},
   "outputs": [
    {
     "name": "stdout",
     "output_type": "stream",
     "text": [
      "cisco-xr-openconfig-acl-deviations@2018-02-07.yang\r\n",
      "cisco-xr-openconfig-alarms-deviations@2019-11-14.yang\r\n",
      "cisco-xr-openconfig-bfd-deviations@2019-05-06.yang\r\n",
      "cisco-xr-openconfig-bgp-policy-deviations@2019-02-06.yang\r\n",
      "cisco-xr-openconfig-if-ethernet-deviations@2016-05-16.yang\r\n",
      "cisco-xr-openconfig-if-ip-deviations@2017-02-07.yang\r\n",
      "cisco-xr-openconfig-if-ip-ext-deviations@2019-09-13.yang\r\n",
      "cisco-xr-openconfig-interfaces-deviations@2016-05-16.yang\r\n",
      "cisco-xr-openconfig-isis-policy-deviations@2019-06-10.yang\r\n",
      "cisco-xr-openconfig-lacp-deviations@2019-09-10.yang\r\n",
      "cisco-xr-openconfig-lldp-deviations@2017-03-08.yang\r\n",
      "cisco-xr-openconfig-local-routing-deviations@2017-06-28.yang\r\n",
      "cisco-xr-openconfig-network-instance-deviations@2017-10-16.yang\r\n",
      "cisco-xr-openconfig-optical-amplifier-deviations@2019-04-05.yang\r\n",
      "cisco-xr-openconfig-platform-cpu-deviations@2018-12-10.yang\r\n",
      "cisco-xr-openconfig-platform-deviations@2018-12-05.yang\r\n",
      "cisco-xr-openconfig-platform-port-deviations@2018-12-10.yang\r\n",
      "cisco-xr-openconfig-platform-psu-deviations@2018-12-10.yang\r\n",
      "cisco-xr-openconfig-platform-transceiver-deviations@2019-09-05.yang\r\n",
      "cisco-xr-openconfig-rib-bgp-deviations@2016-10-16.yang\r\n",
      "cisco-xr-openconfig-routing-policy-deviations@2019-02-06.yang\r\n",
      "cisco-xr-openconfig-rsvp-sr-ext-deviations@2019-05-30.yang\r\n",
      "cisco-xr-openconfig-system-deviations@2018-12-12.yang\r\n",
      "cisco-xr-openconfig-telemetry-deviations@2017-03-09.yang\r\n",
      "cisco-xr-openconfig-transport-line-common-deviations@2019-11-26.yang\r\n",
      "cisco-xr-openconfig-transport-line-protection-deviations@2019-01-23.yang\r\n",
      "cisco-xr-openconfig-vlan-deviations@2019-04-18.yang\r\n",
      "openconfig-aaa-types@2018-04-12.yang\r\n",
      "openconfig-aaa@2018-04-12.yang\r\n",
      "openconfig-aft-network-instance@2017-01-13.yang\r\n",
      "openconfig-aft-types@2017-05-10.yang\r\n",
      "openconfig-aft@2017-05-10.yang\r\n",
      "openconfig-alarm-types@2018-01-16.yang\r\n",
      "openconfig-alarms@2018-01-16.yang\r\n",
      "openconfig-bfd@2018-11-21.yang\r\n",
      "openconfig-bgp-types@2017-02-02.yang\r\n",
      "openconfig-channel-monitor@2018-11-21.yang\r\n",
      "openconfig-extensions@2018-10-17.yang\r\n",
      "openconfig-if-aggregate@2016-05-26.yang\r\n",
      "openconfig-if-types@2018-01-05.yang\r\n",
      "openconfig-inet-types@2017-08-24.yang\r\n",
      "openconfig-isis-lsdb-types@2018-11-21.yang\r\n",
      "openconfig-isis-policy@2018-11-21.yang\r\n",
      "openconfig-isis-types@2018-11-21.yang\r\n",
      "openconfig-isis@2018-11-21.yang\r\n",
      "openconfig-lldp-types@2016-05-16.yang\r\n",
      "openconfig-network-instance-l3@2017-01-13.yang\r\n",
      "openconfig-network-instance-types@2016-12-15.yang\r\n",
      "openconfig-optical-amplifier@2018-11-21.yang\r\n",
      "openconfig-packet-match-types@2017-05-26.yang\r\n",
      "openconfig-packet-match@2017-05-26.yang\r\n",
      "openconfig-platform-ext@2018-01-18.yang\r\n",
      "openconfig-platform-fan@2018-01-18.yang\r\n",
      "openconfig-platform-linecard@2017-08-03.yang\r\n",
      "openconfig-platform-types@2018-11-21.yang\r\n",
      "openconfig-policy-types@2017-07-14.yang\r\n",
      "openconfig-procmon@2017-09-18.yang\r\n",
      "openconfig-rib-bgp-types@2016-04-11.yang\r\n",
      "openconfig-routing-policy@2018-06-05.yang\r\n",
      "openconfig-system-logging@2017-09-18.yang\r\n",
      "openconfig-system-management@2018-08-28.yang\r\n",
      "openconfig-system-terminal@2017-09-18.yang\r\n",
      "openconfig-transport-line-protection@2018-11-21.yang\r\n",
      "openconfig-transport-types@2019-06-27.yang\r\n",
      "openconfig-types@2018-11-21.yang\r\n",
      "openconfig-vlan-types@2016-05-26.yang\r\n",
      "openconfig-yang-types@2018-04-24.yang\r\n"
     ]
    }
   ],
   "source": [
    "!ls yang_cisco"
   ]
  },
  {
   "cell_type": "code",
   "execution_count": null,
   "metadata": {},
   "outputs": [],
   "source": []
  }
 ],
 "metadata": {
  "kernelspec": {
   "display_name": "Python 2",
   "language": "python",
   "name": "python2"
  },
  "language_info": {
   "codemirror_mode": {
    "name": "ipython",
    "version": 2
   },
   "file_extension": ".py",
   "mimetype": "text/x-python",
   "name": "python",
   "nbconvert_exporter": "python",
   "pygments_lexer": "ipython2",
   "version": "2.7.16"
  }
 },
 "nbformat": 4,
 "nbformat_minor": 2
}
